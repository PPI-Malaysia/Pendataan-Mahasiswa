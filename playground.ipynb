{
 "cells": [
  {
   "cell_type": "code",
   "execution_count": 2,
   "id": "16f3bd58",
   "metadata": {},
   "outputs": [],
   "source": [
    "import pandas as pd\n",
    "df = pd.read_json('postcode.json')\n",
    "#convert zipcode to string\n",
    "df['zip_code'] = df['zip_code'].astype(str)\n",
    "df.loc[df['zip_code'].str.len() == 4, 'zip_code'] = '0' + df['zip_code']"
   ]
  },
  {
   "cell_type": "code",
   "execution_count": 3,
   "id": "85da78da",
   "metadata": {},
   "outputs": [],
   "source": [
    "df.to_json('postcode.json', orient='records')"
   ]
  }
 ],
 "metadata": {
  "kernelspec": {
   "display_name": "base",
   "language": "python",
   "name": "python3"
  },
  "language_info": {
   "codemirror_mode": {
    "name": "ipython",
    "version": 3
   },
   "file_extension": ".py",
   "mimetype": "text/x-python",
   "name": "python",
   "nbconvert_exporter": "python",
   "pygments_lexer": "ipython3",
   "version": "3.12.4"
  }
 },
 "nbformat": 4,
 "nbformat_minor": 5
}
